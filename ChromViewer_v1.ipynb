{
 "cells": [
  {
   "cell_type": "markdown",
   "id": "674cc6fb",
   "metadata": {},
   "source": [
    "Chromviewer-With-Vcf\n",
    "\n",
    "As the tool name suggest, it's purpose is to take vcf as a input file and on the output display the chromosomes and the variants in them in an illustrated way."
   ]
  },
  {
   "cell_type": "markdown",
   "id": "2e5883f4-844e-480f-941c-16270bbe7706",
   "metadata": {},
   "source": [
    "In the work directory we have a bash script which has the task to install needed dependencies if needed and then run the R script with the filed options.\n",
    "\n",
    "The only requirment before running the script is to install ssh-askpass, because not all Linux distro's provide a unified askpass. For the script we use ssh-askpass, which is the default for Ubuntu, but in other cases the following command must be run on a terminal\n",
    "\n",
    "sudo apt-get install ssh-askpass-gnome ssh-askpass\n",
    "\n",
    "Now that everything is ready, we can run the script and see the output when there are no arguments added.\n",
    "***Replace the path to chromosme_viewer.sh and then run it"
   ]
  },
  {
   "cell_type": "code",
   "execution_count": 54,
   "id": "ac5355a5-54ec-4396-8dfa-9cf9671008aa",
   "metadata": {
    "scrolled": true
   },
   "outputs": [
    {
     "name": "stdout",
     "output_type": "stream",
     "text": [
      "Rscript (R) version 4.2.0 (2022-04-22)\n",
      "Usage: ./script/chromosome_viewer.R [options]\n",
      "\n",
      "\n",
      "Options:\n",
      "\t-i <FILE>.VCF, --input=<FILE>.VCF\n",
      "\t\tVcf file containing SNPs\n",
      "\n",
      "\t-o <FILE>.HTML, --output=<FILE>.HTML\n",
      "\t\tOutput html file visualising chromosome regions\n",
      "\n",
      "\t-f, --filter\n",
      "\t\tShow only variants with value “PASS” in FILTER field\n",
      "\n",
      "\t-r <HG19/HG38>, --reference=<HG19/HG38>\n",
      "\t\tIf contig tags aren't provided you can choose chromosome lengths between hg19 and hg38 reference genomes\n",
      "\n",
      "\t-c , --chromosome=\n",
      "\t\tFilter by chromosomes, ex. <chr#:from-to,chr#:from-to,...>\n",
      "\n",
      "\t-p, --pathogen\n",
      "\t\tFilter by pathogenicity\n",
      "\n",
      "\t-g , --clnsig=\n",
      "\t\tFilter by clinical significance, USE NUMBERS ONLY, ex. Uncertain - 0, Not provided - 1, Benign - 2, Likely benign - 3, Likely pathogenic - 4, Pathogenic - 5,\n",
      "Drug-response related - 6, Histocompatibility-related - 7, Other - 255\n",
      "\n",
      "\t-h, --help\n",
      "\t\tShow this help message and exit\n",
      "\n",
      "\n"
     ]
    },
    {
     "name": "stderr",
     "output_type": "stream",
     "text": [
      "Error: At least one argument must be supplied (input file).n\n",
      "Execution halted\n"
     ]
    },
    {
     "ename": "CalledProcessError",
     "evalue": "Command 'b'\\n/home/yordan/quanterall/bio/chromosome_viewer/chromosome_viewer.sh\\n'' returned non-zero exit status 1.",
     "output_type": "error",
     "traceback": [
      "\u001b[0;31m---------------------------------------------------------------------------\u001b[0m",
      "\u001b[0;31mCalledProcessError\u001b[0m                        Traceback (most recent call last)",
      "Input \u001b[0;32mIn [54]\u001b[0m, in \u001b[0;36m<cell line: 1>\u001b[0;34m()\u001b[0m\n\u001b[0;32m----> 1\u001b[0m \u001b[43mget_ipython\u001b[49m\u001b[43m(\u001b[49m\u001b[43m)\u001b[49m\u001b[38;5;241;43m.\u001b[39;49m\u001b[43mrun_cell_magic\u001b[49m\u001b[43m(\u001b[49m\u001b[38;5;124;43m'\u001b[39;49m\u001b[38;5;124;43mbash\u001b[39;49m\u001b[38;5;124;43m'\u001b[39;49m\u001b[43m,\u001b[49m\u001b[43m \u001b[49m\u001b[38;5;124;43m'\u001b[39;49m\u001b[38;5;124;43m'\u001b[39;49m\u001b[43m,\u001b[49m\u001b[43m \u001b[49m\u001b[38;5;124;43m'\u001b[39;49m\u001b[38;5;130;43;01m\\n\u001b[39;49;00m\u001b[38;5;124;43m/home/yordan/quanterall/bio/chromosome_viewer/chromosome_viewer.sh\u001b[39;49m\u001b[38;5;130;43;01m\\n\u001b[39;49;00m\u001b[38;5;124;43m'\u001b[39;49m\u001b[43m)\u001b[49m\n",
      "File \u001b[0;32m~/.local/lib/python3.8/site-packages/IPython/core/interactiveshell.py:2357\u001b[0m, in \u001b[0;36mInteractiveShell.run_cell_magic\u001b[0;34m(self, magic_name, line, cell)\u001b[0m\n\u001b[1;32m   2355\u001b[0m \u001b[38;5;28;01mwith\u001b[39;00m \u001b[38;5;28mself\u001b[39m\u001b[38;5;241m.\u001b[39mbuiltin_trap:\n\u001b[1;32m   2356\u001b[0m     args \u001b[38;5;241m=\u001b[39m (magic_arg_s, cell)\n\u001b[0;32m-> 2357\u001b[0m     result \u001b[38;5;241m=\u001b[39m \u001b[43mfn\u001b[49m\u001b[43m(\u001b[49m\u001b[38;5;241;43m*\u001b[39;49m\u001b[43margs\u001b[49m\u001b[43m,\u001b[49m\u001b[43m \u001b[49m\u001b[38;5;241;43m*\u001b[39;49m\u001b[38;5;241;43m*\u001b[39;49m\u001b[43mkwargs\u001b[49m\u001b[43m)\u001b[49m\n\u001b[1;32m   2358\u001b[0m \u001b[38;5;28;01mreturn\u001b[39;00m result\n",
      "File \u001b[0;32m~/.local/lib/python3.8/site-packages/IPython/core/magics/script.py:153\u001b[0m, in \u001b[0;36mScriptMagics._make_script_magic.<locals>.named_script_magic\u001b[0;34m(line, cell)\u001b[0m\n\u001b[1;32m    151\u001b[0m \u001b[38;5;28;01melse\u001b[39;00m:\n\u001b[1;32m    152\u001b[0m     line \u001b[38;5;241m=\u001b[39m script\n\u001b[0;32m--> 153\u001b[0m \u001b[38;5;28;01mreturn\u001b[39;00m \u001b[38;5;28;43mself\u001b[39;49m\u001b[38;5;241;43m.\u001b[39;49m\u001b[43mshebang\u001b[49m\u001b[43m(\u001b[49m\u001b[43mline\u001b[49m\u001b[43m,\u001b[49m\u001b[43m \u001b[49m\u001b[43mcell\u001b[49m\u001b[43m)\u001b[49m\n",
      "File \u001b[0;32m~/.local/lib/python3.8/site-packages/IPython/core/magics/script.py:305\u001b[0m, in \u001b[0;36mScriptMagics.shebang\u001b[0;34m(self, line, cell)\u001b[0m\n\u001b[1;32m    300\u001b[0m \u001b[38;5;28;01mif\u001b[39;00m args\u001b[38;5;241m.\u001b[39mraise_error \u001b[38;5;129;01mand\u001b[39;00m p\u001b[38;5;241m.\u001b[39mreturncode \u001b[38;5;241m!=\u001b[39m \u001b[38;5;241m0\u001b[39m:\n\u001b[1;32m    301\u001b[0m     \u001b[38;5;66;03m# If we get here and p.returncode is still None, we must have\u001b[39;00m\n\u001b[1;32m    302\u001b[0m     \u001b[38;5;66;03m# killed it but not yet seen its return code. We don't wait for it,\u001b[39;00m\n\u001b[1;32m    303\u001b[0m     \u001b[38;5;66;03m# in case it's stuck in uninterruptible sleep. -9 = SIGKILL\u001b[39;00m\n\u001b[1;32m    304\u001b[0m     rc \u001b[38;5;241m=\u001b[39m p\u001b[38;5;241m.\u001b[39mreturncode \u001b[38;5;129;01mor\u001b[39;00m \u001b[38;5;241m-\u001b[39m\u001b[38;5;241m9\u001b[39m\n\u001b[0;32m--> 305\u001b[0m     \u001b[38;5;28;01mraise\u001b[39;00m CalledProcessError(rc, cell)\n",
      "\u001b[0;31mCalledProcessError\u001b[0m: Command 'b'\\n/home/yordan/quanterall/bio/chromosome_viewer/chromosome_viewer.sh\\n'' returned non-zero exit status 1."
     ]
    }
   ],
   "source": [
    "%%bash\n",
    "\n",
    "/home/yordan/quanterall/bio/chromosome_viewer/chromosome_viewer.sh"
   ]
  },
  {
   "cell_type": "markdown",
   "id": "29396b4e",
   "metadata": {},
   "source": [
    "We can see that a help section showed up which lists all the options we can include and also an error message that we must include the input file path. The only mandatory option are -i (for the input vcf file's path) and -o (the output html file's path). We can test this out with the following command"
   ]
  },
  {
   "cell_type": "code",
   "execution_count": null,
   "id": "191e979a-8159-4dde-b665-2e383a936cff",
   "metadata": {},
   "outputs": [],
   "source": [
    "%%bash \n",
    "DIR=`pwd`\n",
    "/home/yordan/quanterall/bio/chromosome_viewer/chromosome_viewer.sh -i ./data/test.vcf -o $DIR/result/result.html -r hg38"
   ]
  },
  {
   "cell_type": "markdown",
   "id": "0db749ee",
   "metadata": {},
   "source": [
    "We created a directory inside the current one which contains the output files - the result html file with it's required js files for visualisation and two text files containing chromosome lenghts and annotations info."
   ]
  },
  {
   "cell_type": "code",
   "execution_count": null,
   "id": "1d9e28a8-ddbf-4d97-9524-3af99c7f9ab8",
   "metadata": {},
   "outputs": [],
   "source": [
    "from IPython.display import HTML\n",
    "HTML(filename='./result/result.html')"
   ]
  },
  {
   "cell_type": "markdown",
   "id": "527cbfcc",
   "metadata": {},
   "source": [
    "When we include the listed options we can filter further down the input file only with the variants of interest.\n",
    "For example we want only the first chromosome to be displayed. To display chromosome we use the -c tag\n",
    "\n",
    "NOTE: The chromosome notation should be known prior when we use -c tag. We can check it either in the contig section if it's present or the #CHROM column for the variants. Most common annotations are for example chr1,chr2.. / 1,2.. / c1,c2.. etc."
   ]
  },
  {
   "cell_type": "code",
   "execution_count": null,
   "id": "b443b94f-11ab-4e13-9730-c7b358f3780f",
   "metadata": {},
   "outputs": [],
   "source": [
    "%%bash \n",
    "DIR=`pwd`\n",
    "/home/yordan/quanterall/bio/chromosome_viewer/chromosome_viewer.sh -i ./data/test.vcf -o $DIR/result1/result.html -c chr1"
   ]
  },
  {
   "cell_type": "markdown",
   "id": "2358ad3f",
   "metadata": {},
   "source": [
    "To filter by chromosome and their lenghts. For example we want from the start of the chromosome 1 (1) to the base pair 130000000 and all of chromosome 2. We can use the following command"
   ]
  },
  {
   "cell_type": "code",
   "execution_count": 31,
   "id": "43185260",
   "metadata": {},
   "outputs": [
    {
     "name": "stdout",
     "output_type": "stream",
     "text": [
      "Rscript (R) version 4.2.0 (2022-04-22)\n"
     ]
    },
    {
     "name": "stderr",
     "output_type": "stream",
     "text": [
      "Warning message:\n",
      "In normalizePath(dirname(output_file)) :\n",
      "  path[1]=\"/home/yordan/quanterall/bio/ChromViewer-JupyterNotebooks/result2\": No such file or directory\n"
     ]
    },
    {
     "name": "stdout",
     "output_type": "stream",
     "text": [
      "Scanning file to determine attributes.\n",
      "File attributes:\n",
      "  meta lines: 78\n",
      "  header_line: 79\n",
      "  variant count: 307\n",
      "  column count: 10\n",
      "Meta line 78 read in.\n",
      "All meta lines processed.\n",
      "gt matrix initialized.\n",
      "Character matrix gt created.\n",
      "  Character matrix gt rows: 307\n",
      "  Character matrix gt cols: 10\n",
      "  skip: 0\n",
      "  nrows: 307\n",
      "  row_num: 0\n",
      "Processed variant: 307\n",
      "All variants processed\n"
     ]
    },
    {
     "name": "stderr",
     "output_type": "stream",
     "text": [
      "Warning message:\n",
      "In length(chrom_list) == 0 || !grepl(\"length\", chrom_list, fixed = TRUE) :\n",
      "  'length(x) = 25 > 1' in coercion to 'logical(1)'\n"
     ]
    },
    {
     "name": "stdout",
     "output_type": "stream",
     "text": [
      "[1] \"chr1\"\n",
      "********************************** __ __ ************\n",
      "** __**|__ * __* __ * __ __ * __ *|  |  |* __ * __ **\n",
      "**|__**|  |*|  *|__|*|  |  |*|__|*|  |  |*|_ |*|__|**\n",
      "***********************************************|   **\n",
      "*****************************************************\n",
      "OUTPUT: \n",
      "Number of Chromosome sets: 1 \n",
      "Number of Chromosomes in set  1 : 2 \n",
      "Processing data.. \n",
      "Number of annotations in data set  1 : 307 \n",
      "Visualizing..                   "
     ]
    }
   ],
   "source": [
    "%%bash \n",
    "DIR=`pwd`\n",
    "/home/yordan/quanterall/bio/chromosome_viewer/chromosome_viewer.sh -i ./data/test.vcf -o $DIR/result2/result.html -c chr1:1-130000000,chr2"
   ]
  },
  {
   "cell_type": "markdown",
   "id": "673cb8bc",
   "metadata": {},
   "source": [
    "We can filter to display only thevariants which #FILTER passes. Then we should use -f tag. The command will look like this"
   ]
  },
  {
   "cell_type": "code",
   "execution_count": 30,
   "id": "f787fb70",
   "metadata": {},
   "outputs": [
    {
     "name": "stdout",
     "output_type": "stream",
     "text": [
      "Rscript (R) version 4.2.0 (2022-04-22)\n"
     ]
    },
    {
     "name": "stderr",
     "output_type": "stream",
     "text": [
      "Warning message:\n",
      "In normalizePath(dirname(output_file)) :\n",
      "  path[1]=\"/home/yordan/quanterall/bio/ChromViewer-JupyterNotebooks/result3\": No such file or directory\n"
     ]
    },
    {
     "name": "stdout",
     "output_type": "stream",
     "text": [
      "Scanning file to determine attributes.\n",
      "File attributes:\n",
      "  meta lines: 78\n",
      "  header_line: 79\n",
      "  variant count: 307\n",
      "  column count: 10\n",
      "Meta line 78 read in.\n",
      "All meta lines processed.\n",
      "gt matrix initialized.\n",
      "Character matrix gt created.\n",
      "  Character matrix gt rows: 307\n",
      "  Character matrix gt cols: 10\n",
      "  skip: 0\n",
      "  nrows: 307\n",
      "  row_num: 0\n",
      "Processed variant: 307\n",
      "All variants processed\n"
     ]
    },
    {
     "name": "stderr",
     "output_type": "stream",
     "text": [
      "Warning message:\n",
      "In length(chrom_list) == 0 || !grepl(\"length\", chrom_list, fixed = TRUE) :\n",
      "  'length(x) = 25 > 1' in coercion to 'logical(1)'\n"
     ]
    },
    {
     "name": "stdout",
     "output_type": "stream",
     "text": [
      "[1] \"chr1\"\n",
      "********************************** __ __ ************\n",
      "** __**|__ * __* __ * __ __ * __ *|  |  |* __ * __ **\n",
      "**|__**|  |*|  *|__|*|  |  |*|__|*|  |  |*|_ |*|__|**\n",
      "***********************************************|   **\n",
      "*****************************************************\n",
      "OUTPUT: \n",
      "Number of Chromosome sets: 1 \n",
      "Number of Chromosomes in set  1 : 2 \n",
      "Processing data.. \n",
      "Number of annotations in data set  1 : 142 \n",
      "Visualizing..                   "
     ]
    }
   ],
   "source": [
    "%%bash \n",
    "DIR=`pwd`\n",
    "/home/yordan/quanterall/bio/chromosome_viewer/chromosome_viewer.sh -i ./data/test.vcf -o $DIR/result3/result.html -c chr1:1-130000000,chr2 -f"
   ]
  },
  {
   "cell_type": "markdown",
   "id": "fb8bcbdb",
   "metadata": {},
   "source": [
    "When the contig tag is missing or it lacks chromosome lengths, then we should use a reference file for chromosome lenghts. It can either be hg19 or hg38 and it's specified by the -r option.\n",
    "\n",
    "In the next example we will use a file that lakcs contig section and would also want to display only pathogenic variant. To display pathogenic variants only we use -p option."
   ]
  },
  {
   "cell_type": "code",
   "execution_count": 35,
   "id": "ffb805e3",
   "metadata": {},
   "outputs": [
    {
     "name": "stdout",
     "output_type": "stream",
     "text": [
      "Rscript (R) version 4.2.0 (2022-04-22)\n"
     ]
    },
    {
     "name": "stderr",
     "output_type": "stream",
     "text": [
      "[W::vcf_parse] Contig '1' is not defined in the header. (Quick workaround: index the file with tabix.)\n",
      "[W::vcf_parse] Contig '2' is not defined in the header. (Quick workaround: index the file with tabix.)\n"
     ]
    },
    {
     "name": "stdout",
     "output_type": "stream",
     "text": [
      "Scanning file to determine attributes.\n",
      "File attributes:\n",
      "  meta lines: 30\n",
      "  header_line: 31\n",
      "  variant count: 7719\n",
      "  column count: 8\n",
      "Meta line 30 read in.\n",
      "All meta lines processed.\n",
      "gt matrix initialized.\n",
      "Character matrix gt created.\n",
      "  Character matrix gt rows: 7719\n",
      "  Character matrix gt cols: 8\n",
      "  skip: 0\n",
      "  nrows: 7719\n",
      "  row_num: 0\n",
      "Processed variant: 7719\n",
      "All variants processed\n",
      "[1] \"1\"\n",
      "[1] TRUE\n",
      "********************************** __ __ ************\n",
      "** __**|__ * __* __ * __ __ * __ *|  |  |* __ * __ **\n",
      "**|__**|  |*|  *|__|*|  |  |*|__|*|  |  |*|_ |*|__|**\n",
      "***********************************************|   **\n",
      "*****************************************************\n",
      "OUTPUT: \n",
      "Number of Chromosome sets: 1 \n",
      "Number of Chromosomes in set  1 : 2 \n",
      "Processing data.. \n",
      "Number of annotations in data set  1 : 7719 \n",
      "Visualizing..                   "
     ]
    },
    {
     "name": "stderr",
     "output_type": "stream",
     "text": [
      "Task exception was never retrieved\n",
      "future: <Task finished name='Task-144' coro=<ScriptMagics.shebang.<locals>._handle_stream() done, defined at /home/yordan/.local/lib/python3.8/site-packages/IPython/core/magics/script.py:211> exception=ValueError('Separator is not found, and chunk exceed the limit')>\n",
      "Traceback (most recent call last):\n",
      "  File \"/usr/lib/python3.8/asyncio/streams.py\", line 540, in readline\n",
      "    line = await self.readuntil(sep)\n",
      "  File \"/usr/lib/python3.8/asyncio/streams.py\", line 618, in readuntil\n",
      "    raise exceptions.LimitOverrunError(\n",
      "asyncio.exceptions.LimitOverrunError: Separator is not found, and chunk exceed the limit\n",
      "\n",
      "During handling of the above exception, another exception occurred:\n",
      "\n",
      "Traceback (most recent call last):\n",
      "  File \"/home/yordan/.local/lib/python3.8/site-packages/IPython/core/magics/script.py\", line 213, in _handle_stream\n",
      "    line = (await stream.readline()).decode(\"utf8\")\n",
      "  File \"/usr/lib/python3.8/asyncio/streams.py\", line 549, in readline\n",
      "    raise ValueError(e.args[0])\n",
      "ValueError: Separator is not found, and chunk exceed the limit\n"
     ]
    }
   ],
   "source": [
    "%%bash \n",
    "DIR=`pwd`\n",
    "/home/yordan/quanterall/bio/chromosome_viewer/chromosome_viewer.sh -i ./data/annotated_data.vcf -o $DIR/result4/result.html -r hg38 -p"
   ]
  },
  {
   "cell_type": "markdown",
   "id": "0ef68489",
   "metadata": {},
   "source": [
    "There is also an option to filter by clinical significance. If we wish to use it, we must specify the types with the -g option. The types are the following:\n",
    "\n",
    "Uncertain - 0, \n",
    "Not provided - 1, \n",
    "Benign - 2,\n",
    "Likely benign - 3, \n",
    "Likely pathogenic - 4, \n",
    "Pathogenic - 5,\n",
    "Drug-response related - 6,\n",
    "Histocompatibility-related - 7, \n",
    "Other - 255\n",
    "\n",
    "We can combine them using a coma.\n",
    "Ex. If we want to display only variants with clinical significance Bening and Likely benbing we will call the option like this: -g 2,3\n",
    "\n",
    "Run the following command to filter only drug response related variants"
   ]
  },
  {
   "cell_type": "code",
   "execution_count": 55,
   "id": "d5862e44",
   "metadata": {},
   "outputs": [
    {
     "name": "stdout",
     "output_type": "stream",
     "text": [
      "Rscript (R) version 4.2.0 (2022-04-22)\n"
     ]
    },
    {
     "name": "stderr",
     "output_type": "stream",
     "text": [
      "Warning message:\n",
      "In normalizePath(dirname(output_file)) :\n",
      "  path[1]=\"/home/yordan/quanterall/bio/ChromViewer-JupyterNotebooks/result5\": No such file or directory\n",
      "[W::vcf_parse] Contig '1' is not defined in the header. (Quick workaround: index the file with tabix.)\n",
      "[W::vcf_parse] Contig '2' is not defined in the header. (Quick workaround: index the file with tabix.)\n"
     ]
    },
    {
     "name": "stdout",
     "output_type": "stream",
     "text": [
      "Scanning file to determine attributes.\n",
      "File attributes:\n",
      "  meta lines: 30\n",
      "  header_line: 31\n",
      "  variant count: 31\n",
      "  column count: 8\n",
      "Meta line 30 read in.\n",
      "All meta lines processed.\n",
      "gt matrix initialized.\n",
      "Character matrix gt created.\n",
      "  Character matrix gt rows: 31\n",
      "  Character matrix gt cols: 8\n",
      "  skip: 0\n",
      "  nrows: 31\n",
      "  row_num: 0\n",
      "Processed variant: 31\n",
      "All variants processed\n",
      "[1] \"1\"\n",
      "********************************** __ __ ************\n",
      "** __**|__ * __* __ * __ __ * __ *|  |  |* __ * __ **\n",
      "**|__**|  |*|  *|__|*|  |  |*|__|*|  |  |*|_ |*|__|**\n",
      "***********************************************|   **\n",
      "*****************************************************\n",
      "OUTPUT: \n",
      "Number of Chromosome sets: 1 \n",
      "Number of Chromosomes in set  1 : 1 \n",
      "Processing data.. \n",
      "Number of annotations in data set  1 : 31 \n",
      "Visualizing..                   "
     ]
    }
   ],
   "source": [
    "%%bash \n",
    "DIR=`pwd`\n",
    "/home/yordan/quanterall/bio/chromosome_viewer/chromosome_viewer.sh -i ./data/annotated_data.vcf -o $DIR/result5/result.html -r hg38 -g 6"
   ]
  },
  {
   "cell_type": "code",
   "execution_count": null,
   "id": "55721b98",
   "metadata": {},
   "outputs": [],
   "source": []
  }
 ],
 "metadata": {
  "kernelspec": {
   "display_name": "Python 3 (ipykernel)",
   "language": "python",
   "name": "python3"
  },
  "language_info": {
   "codemirror_mode": {
    "name": "ipython",
    "version": 3
   },
   "file_extension": ".py",
   "mimetype": "text/x-python",
   "name": "python",
   "nbconvert_exporter": "python",
   "pygments_lexer": "ipython3",
   "version": "3.8.10"
  },
  "toc-autonumbering": false,
  "toc-showcode": false,
  "toc-showmarkdowntxt": false,
  "toc-showtags": false
 },
 "nbformat": 4,
 "nbformat_minor": 5
}
