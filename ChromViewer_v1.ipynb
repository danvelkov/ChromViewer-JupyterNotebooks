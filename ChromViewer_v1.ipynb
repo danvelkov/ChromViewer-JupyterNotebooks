{
 "cells": [
  {
   "cell_type": "markdown",
   "id": "674cc6fb",
   "metadata": {},
   "source": [
    "# Chromviewer-With-Vcf\n",
    "\n",
    "As the tool name suggest, it's purpose is to take vcf as a input file and on the output display the chromosomes and the variants in them in an illustrated way."
   ]
  },
  {
   "cell_type": "markdown",
   "id": "2e5883f4-844e-480f-941c-16270bbe7706",
   "metadata": {},
   "source": [
    "In the work directory we have a bash script which has the task to install needed dependencies if needed and then run the R script with the filed options.\n",
    "\n",
    "The only requirment before running the script is to install ssh-askpass, because not all Linux distro's provide a unified askpass. For the script we use ssh-askpass and the following command must be run on a terminal:\n",
    "\n",
    "`sudo apt-get install ssh-askpass-gnome ssh-askpass`\n",
    "\n",
    "Now that everything is ready, we can run the script and see the output when there are no arguments added.\n",
    "\n",
    "__You must replace the path to chromosme_viewer.sh and then run it__"
   ]
  },
  {
   "cell_type": "code",
   "execution_count": null,
   "id": "ac5355a5-54ec-4396-8dfa-9cf9671008aa",
   "metadata": {
    "scrolled": true
   },
   "outputs": [],
   "source": [
    "%%bash\n",
    "\n",
    "{path_to_folder}/chromosome_viewer.sh"
   ]
  },
  {
   "cell_type": "markdown",
   "id": "29396b4e",
   "metadata": {},
   "source": [
    "Firstly we will be promted for password so that packages can be installed if they're missing. If none of them are installed it might take a while (est. 10-30 min).\n",
    "\n",
    "After checking for depending packages, we can see that a help section showed up which lists all the options we can include and also an error message that we must include the input file path. \n",
    "\n",
    "The only mandatory option are __*-i*__ (for the input vcf file's path) and __*-o*__ (the output html file's path). We can test this out and set the output directory same as the notebook's directory with the following command:"
   ]
  },
  {
   "cell_type": "code",
   "execution_count": null,
   "id": "191e979a-8159-4dde-b665-2e383a936cff",
   "metadata": {},
   "outputs": [],
   "source": [
    "%%bash \n",
    "DIR=`pwd`\n",
    "{path_to_folder}/chromosome_viewer.sh -i ./data/test.vcf -o $DIR/result1/result.html"
   ]
  },
  {
   "cell_type": "markdown",
   "id": "1dc2e7ea",
   "metadata": {},
   "source": [
    "We created a directory inside the current one which contains the output files - the result html file with it's required javascript files for visualisation and two text files containing chromosome lenghts and annotations info."
   ]
  },
  {
   "cell_type": "markdown",
   "id": "e912be24",
   "metadata": {},
   "source": [
    "The output should look like this:\n",
    "\n",
    "<img src=\"Images/result1.png\" alt=\"Result 1\"/>\n",
    "\n",
    "You can check the generated files to take a look too!"
   ]
  },
  {
   "cell_type": "markdown",
   "id": "a37493be",
   "metadata": {},
   "source": [
    "When we hover over the colored areas, we can see that a dialog window appears. It lists the variants in this region and when clicking on certain variant, it leads to [NIH's dbSNP database](https://www.ncbi.nlm.nih.gov/snp/).\n",
    "\n",
    "*Note*: When we click on the region the window won't disappear! \n",
    "\n",
    "<img src=\"Images/hover.png\" alt=\"Hover dialog\"/>\n",
    "\n",
    "*Note*: Open the links in a new browser tab\n",
    "\n",
    "When a variant is listed as null it means that there is no information for it on dbSNP database."
   ]
  },
  {
   "cell_type": "markdown",
   "id": "70b21877",
   "metadata": {},
   "source": [
    "***\n",
    "\n",
    "So far the options we know are:\n",
    "\n",
    "- *-f* or *--filter* \n",
    "> Use only variants with value “PASS” in FILTER field\n",
    "\n",
    "- *-r* or *--reference*\n",
    "> If contig tags with lenghts aren't provided you can choose chromosome lengths between hg19 and hg38 reference genomes\n",
    "\n",
    "- *-c* or *--chromosome*\n",
    "> Filter by chromosomes, ex. <chr#:from-to,chr#:from-to,...>, *IMPORTNANT*: notation should be same with vcf file\n",
    "\n",
    "- *-p* or *--pathogen*\n",
    "> Filter by pathogenicity\n",
    "\n",
    "- *-g* or *--clnsig*\n",
    "> Filter by clinical significance, *USE NUMBERS ONLY*, ex. Uncertain - 0, Not provided - 1, Benign - 2, Likely benign - 3, Likely pathogenic - 4, Pathogenic - 5, Drug-response related - 6, Histocompatibility-related - 7, Other - 255, ex. <-g 0,3,4>"
   ]
  },
  {
   "cell_type": "markdown",
   "id": "ee1b1ae1",
   "metadata": {},
   "source": [
    "When we include the listed options we can filter further down the input file only with the variants of interest.\n",
    "For example we want only the first chromosome to be displayed. To display chromosome we use the __*-c*__ tag\n",
    "\n",
    "__Important__: The chromosome notation should be known prior when we use __*-c*__ tag. We can check it either in the contig section if it's present or the *#CHROM* column for the variants. Most common annotations are for example chr1,chr2.. / 1,2.. / c1,c2.. etc."
   ]
  },
  {
   "cell_type": "code",
   "execution_count": null,
   "id": "b443b94f-11ab-4e13-9730-c7b358f3780f",
   "metadata": {},
   "outputs": [],
   "source": [
    "%%bash \n",
    "DIR=`pwd`\n",
    "{path_to_folder}/chromosome_viewer.sh -i ./data/test.vcf -o $DIR/result2/result.html -c chr1"
   ]
  },
  {
   "cell_type": "markdown",
   "id": "4b23f937",
   "metadata": {},
   "source": [
    "The result should look like this:\n",
    "\n",
    "<img src=\"Images/result2.png\" alt=\"Result2\"/>"
   ]
  },
  {
   "cell_type": "markdown",
   "id": "7b8d1c3a",
   "metadata": {},
   "source": [
    "To filter by chromosome and their lenghts. For example we want from the start of the chromosome 1 (1) to the base pair 130'000'000 and all of chromosome 2. We can use the following command:"
   ]
  },
  {
   "cell_type": "code",
   "execution_count": null,
   "id": "0361c553",
   "metadata": {},
   "outputs": [],
   "source": [
    "%%bash \n",
    "DIR=`pwd`\n",
    "{path_to_folder}/chromosome_viewer.sh -i ./data/test.vcf -o $DIR/result3/result.html -c chr1:1-130000000,chr2"
   ]
  },
  {
   "cell_type": "markdown",
   "id": "0a8c25c6",
   "metadata": {},
   "source": [
    "The result should look like this:\n",
    "\n",
    "<img src=\"Images/result3.png\" alt=\"Result 3\"/>"
   ]
  },
  {
   "cell_type": "markdown",
   "id": "054c5f06",
   "metadata": {},
   "source": [
    "We can filter to display only thevariants which *#FILTER* passes. Then we should use __*-f*__ tag. The command will look like this:"
   ]
  },
  {
   "cell_type": "code",
   "execution_count": null,
   "id": "326a8995",
   "metadata": {},
   "outputs": [],
   "source": [
    "%%bash \n",
    "DIR=`pwd`\n",
    "{path_to_folder}/chromosome_viewer.sh -i ./data/test.vcf -o $DIR/result4/result.html -c chr1:1-130000000,chr2 -f"
   ]
  },
  {
   "cell_type": "markdown",
   "id": "6936cfac",
   "metadata": {},
   "source": [
    "The result should look like this:\n",
    "\n",
    "<img src=\"Images/result4.png\" alt=\"Result 4\"/>"
   ]
  },
  {
   "cell_type": "markdown",
   "id": "6f8bc311",
   "metadata": {},
   "source": [
    "When the contig tag is missing or it lacks chromosome lengths, then we should use a reference file for chromosome lenghts. It can either be *hg19* or *hg38* and it's specified by the __*-r*__ option.\n",
    "\n",
    "In the next example we will use a file that lakcs contig section and would also want to display only pathogenic variant. To display pathogenic variants only we use __*-p*__ option:"
   ]
  },
  {
   "cell_type": "code",
   "execution_count": null,
   "id": "24c497e1",
   "metadata": {},
   "outputs": [],
   "source": [
    "%%bash \n",
    "DIR=`pwd`\n",
    "{path_to_folder}/chromosome_viewer.sh -i ./data/annotated_data.vcf -o $DIR/result5/result.html -r hg38 -p"
   ]
  },
  {
   "cell_type": "markdown",
   "id": "082eb157",
   "metadata": {},
   "source": [
    "The result should look like this:\n",
    "\n",
    "<img src=\"Images/result5.png\" alt=\"Result 5\"/>\n",
    "\n",
    "*Note*: When we use pathogenic variants, their variant ID will lead us instead to [NIH's ClinVar database](https://www.ncbi.nlm.nih.gov/clinvar/). You can try it!\n",
    "\n",
    "<img src=\"Images/hover_pathogen.png\" alt=\"Hover on pathogenic\"/>"
   ]
  },
  {
   "cell_type": "markdown",
   "id": "c15754d3",
   "metadata": {},
   "source": [
    "There is also an option to filter by clinical significance. If we wish to use it, we must specify the types with the __*-g*__ option. The types are the following:\n",
    "\n",
    "- Uncertain - 0, \n",
    "- Not provided - 1, \n",
    "- Benign - 2,\n",
    "- Likely benign - 3, \n",
    "- Likely pathogenic - 4, \n",
    "- Pathogenic - 5,\n",
    "- Drug-response related - 6,\n",
    "- Histocompatibility-related - 7, \n",
    "- Other - 255\n",
    "\n",
    "We can combine them using a coma.\n",
    "Ex. If we want to display only variants with clinical significance Bening and Likely benbing we will call the option like this: *-g 2,3*\n",
    "\n",
    "*NOTE*: We can't use __*-p*__ and __*-g*__ options simultaneously. \n",
    "\n",
    "Run the following command to filter only drug response related variants:"
   ]
  },
  {
   "cell_type": "code",
   "execution_count": null,
   "id": "1c319095",
   "metadata": {},
   "outputs": [],
   "source": [
    "%%bash \n",
    "DIR=`pwd`\n",
    "{path_to_folder}/chromosome_viewer.sh -i ./data/annotated_data.vcf -o $DIR/result6/result.html -r hg38 -g 6"
   ]
  },
  {
   "cell_type": "markdown",
   "id": "faef5112",
   "metadata": {},
   "source": [
    "The result should look like this:\n",
    "\n",
    "<img src=\"Images/result6.png\" alt=\"Result 6\"/>"
   ]
  }
 ],
 "metadata": {
  "kernelspec": {
   "display_name": "Python 3 (ipykernel)",
   "language": "python",
   "name": "python3"
  },
  "language_info": {
   "codemirror_mode": {
    "name": "ipython",
    "version": 3
   },
   "file_extension": ".py",
   "mimetype": "text/x-python",
   "name": "python",
   "nbconvert_exporter": "python",
   "pygments_lexer": "ipython3",
   "version": "3.8.10"
  },
  "toc-autonumbering": false,
  "toc-showcode": false,
  "toc-showmarkdowntxt": false,
  "toc-showtags": false
 },
 "nbformat": 4,
 "nbformat_minor": 5
}
